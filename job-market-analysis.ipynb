{
 "cells": [
  {
   "cell_type": "code",
   "execution_count": 3,
   "metadata": {
    "_cell_guid": "b1076dfc-b9ad-4769-8c92-a6c4dae69d19",
    "_uuid": "8f2839f25d086af736a60e9eeb907d3b93b6e0e5"
   },
   "outputs": [],
   "source": [
    "import numpy as np # linear algebra\n",
    "import pandas as pd # data processing, CSV file I/O (e.g. pd.read_csv)"
   ]
  },
  {
   "cell_type": "code",
   "execution_count": 5,
   "metadata": {},
   "outputs": [],
   "source": [
    "df = pd.read_csv('E:\\\\PycharmProjects\\\\naukri_com-job_sample.csv')"
   ]
  },
  {
   "cell_type": "code",
   "execution_count": 7,
   "metadata": {},
   "outputs": [
    {
     "data": {
      "text/html": [
       "<div>\n",
       "<style scoped>\n",
       "    .dataframe tbody tr th:only-of-type {\n",
       "        vertical-align: middle;\n",
       "    }\n",
       "\n",
       "    .dataframe tbody tr th {\n",
       "        vertical-align: top;\n",
       "    }\n",
       "\n",
       "    .dataframe thead th {\n",
       "        text-align: right;\n",
       "    }\n",
       "</style>\n",
       "<table border=\"1\" class=\"dataframe\">\n",
       "  <thead>\n",
       "    <tr style=\"text-align: right;\">\n",
       "      <th></th>\n",
       "      <th>company</th>\n",
       "      <th>education</th>\n",
       "      <th>experience</th>\n",
       "      <th>industry</th>\n",
       "      <th>jobdescription</th>\n",
       "      <th>jobid</th>\n",
       "      <th>joblocation_address</th>\n",
       "      <th>jobtitle</th>\n",
       "      <th>numberofpositions</th>\n",
       "      <th>payrate</th>\n",
       "      <th>postdate</th>\n",
       "      <th>site_name</th>\n",
       "      <th>skills</th>\n",
       "      <th>uniq_id</th>\n",
       "    </tr>\n",
       "  </thead>\n",
       "  <tbody>\n",
       "    <tr>\n",
       "      <th>0</th>\n",
       "      <td>MM Media Pvt Ltd</td>\n",
       "      <td>UG: B.Tech/B.E. - Any Specialization PG:Any Po...</td>\n",
       "      <td>0 - 1 yrs</td>\n",
       "      <td>Media / Entertainment / Internet</td>\n",
       "      <td>Job Description   Send me Jobs like this Quali...</td>\n",
       "      <td>210516002263</td>\n",
       "      <td>Chennai</td>\n",
       "      <td>Walkin Data Entry Operator (night Shift)</td>\n",
       "      <td>NaN</td>\n",
       "      <td>1,50,000 - 2,25,000 P.A</td>\n",
       "      <td>2016-05-21 19:30:00 +0000</td>\n",
       "      <td>NaN</td>\n",
       "      <td>ITES</td>\n",
       "      <td>43b19632647068535437c774b6ca6cf8</td>\n",
       "    </tr>\n",
       "    <tr>\n",
       "      <th>1</th>\n",
       "      <td>find live infotech</td>\n",
       "      <td>UG: B.Tech/B.E. - Any Specialization PG:MBA/PG...</td>\n",
       "      <td>0 - 0 yrs</td>\n",
       "      <td>Advertising / PR / MR / Event Management</td>\n",
       "      <td>Job Description   Send me Jobs like this Quali...</td>\n",
       "      <td>210516002391</td>\n",
       "      <td>Chennai</td>\n",
       "      <td>Work Based Onhome Based Part Time.</td>\n",
       "      <td>60.0</td>\n",
       "      <td>1,50,000 - 2,50,000 P.A. 20000</td>\n",
       "      <td>2016-05-21 19:30:00 +0000</td>\n",
       "      <td>NaN</td>\n",
       "      <td>Marketing</td>\n",
       "      <td>d4c72325e57f89f364812b5ed5a795f0</td>\n",
       "    </tr>\n",
       "    <tr>\n",
       "      <th>2</th>\n",
       "      <td>Softtech Career Infosystem Pvt. Ltd</td>\n",
       "      <td>UG: Any Graduate - Any Specialization PG:Any P...</td>\n",
       "      <td>4 - 8 yrs</td>\n",
       "      <td>IT-Software / Software Services</td>\n",
       "      <td>Job Description   Send me Jobs like this - as ...</td>\n",
       "      <td>101016900534</td>\n",
       "      <td>Bengaluru</td>\n",
       "      <td>Pl/sql Developer - SQL</td>\n",
       "      <td>NaN</td>\n",
       "      <td>Not Disclosed by Recruiter</td>\n",
       "      <td>2016-10-13 16:20:55 +0000</td>\n",
       "      <td>NaN</td>\n",
       "      <td>IT Software - Application Programming</td>\n",
       "      <td>c47df6f4cfdf5b46f1fd713ba61b9eba</td>\n",
       "    </tr>\n",
       "    <tr>\n",
       "      <th>3</th>\n",
       "      <td>Onboard HRServices LLP</td>\n",
       "      <td>UG: Any Graduate - Any Specialization PG:CA Do...</td>\n",
       "      <td>11 - 15 yrs</td>\n",
       "      <td>Banking / Financial Services / Broking</td>\n",
       "      <td>Job Description   Send me Jobs like this - Inv...</td>\n",
       "      <td>81016900536</td>\n",
       "      <td>Mumbai, Bengaluru, Kolkata, Chennai, Coimbator...</td>\n",
       "      <td>Manager/ad/partner - Indirect Tax - CA</td>\n",
       "      <td>NaN</td>\n",
       "      <td>Not Disclosed by Recruiter</td>\n",
       "      <td>2016-10-13 16:20:55 +0000</td>\n",
       "      <td>NaN</td>\n",
       "      <td>Accounts</td>\n",
       "      <td>115d28f140f694dd1cc61c53d03c66ae</td>\n",
       "    </tr>\n",
       "    <tr>\n",
       "      <th>4</th>\n",
       "      <td>Spire Technologies and Solutions Pvt. Ltd.</td>\n",
       "      <td>UG: B.Tech/B.E. - Any Specialization PG:Any Po...</td>\n",
       "      <td>6 - 8 yrs</td>\n",
       "      <td>IT-Software / Software Services</td>\n",
       "      <td>Job Description   Send me Jobs like this Pleas...</td>\n",
       "      <td>120916002122</td>\n",
       "      <td>Bengaluru</td>\n",
       "      <td>JAVA Technical Lead (6-8 yrs) -</td>\n",
       "      <td>4.0</td>\n",
       "      <td>Not Disclosed by Recruiter</td>\n",
       "      <td>2016-10-13 16:20:55 +0000</td>\n",
       "      <td>NaN</td>\n",
       "      <td>IT Software - Application Programming</td>\n",
       "      <td>a12553fc03bc7bcced8b1bb8963f97b4</td>\n",
       "    </tr>\n",
       "  </tbody>\n",
       "</table>\n",
       "</div>"
      ],
      "text/plain": [
       "                                      company  \\\n",
       "0                            MM Media Pvt Ltd   \n",
       "1                          find live infotech   \n",
       "2         Softtech Career Infosystem Pvt. Ltd   \n",
       "3                      Onboard HRServices LLP   \n",
       "4  Spire Technologies and Solutions Pvt. Ltd.   \n",
       "\n",
       "                                           education   experience  \\\n",
       "0  UG: B.Tech/B.E. - Any Specialization PG:Any Po...    0 - 1 yrs   \n",
       "1  UG: B.Tech/B.E. - Any Specialization PG:MBA/PG...    0 - 0 yrs   \n",
       "2  UG: Any Graduate - Any Specialization PG:Any P...    4 - 8 yrs   \n",
       "3  UG: Any Graduate - Any Specialization PG:CA Do...  11 - 15 yrs   \n",
       "4  UG: B.Tech/B.E. - Any Specialization PG:Any Po...    6 - 8 yrs   \n",
       "\n",
       "                                   industry  \\\n",
       "0          Media / Entertainment / Internet   \n",
       "1  Advertising / PR / MR / Event Management   \n",
       "2           IT-Software / Software Services   \n",
       "3    Banking / Financial Services / Broking   \n",
       "4           IT-Software / Software Services   \n",
       "\n",
       "                                      jobdescription         jobid  \\\n",
       "0  Job Description   Send me Jobs like this Quali...  210516002263   \n",
       "1  Job Description   Send me Jobs like this Quali...  210516002391   \n",
       "2  Job Description   Send me Jobs like this - as ...  101016900534   \n",
       "3  Job Description   Send me Jobs like this - Inv...   81016900536   \n",
       "4  Job Description   Send me Jobs like this Pleas...  120916002122   \n",
       "\n",
       "                                 joblocation_address  \\\n",
       "0                                            Chennai   \n",
       "1                                            Chennai   \n",
       "2                                          Bengaluru   \n",
       "3  Mumbai, Bengaluru, Kolkata, Chennai, Coimbator...   \n",
       "4                                          Bengaluru   \n",
       "\n",
       "                                   jobtitle  numberofpositions  \\\n",
       "0  Walkin Data Entry Operator (night Shift)                NaN   \n",
       "1        Work Based Onhome Based Part Time.               60.0   \n",
       "2                    Pl/sql Developer - SQL                NaN   \n",
       "3    Manager/ad/partner - Indirect Tax - CA                NaN   \n",
       "4           JAVA Technical Lead (6-8 yrs) -                4.0   \n",
       "\n",
       "                          payrate                   postdate site_name  \\\n",
       "0         1,50,000 - 2,25,000 P.A  2016-05-21 19:30:00 +0000       NaN   \n",
       "1  1,50,000 - 2,50,000 P.A. 20000  2016-05-21 19:30:00 +0000       NaN   \n",
       "2      Not Disclosed by Recruiter  2016-10-13 16:20:55 +0000       NaN   \n",
       "3      Not Disclosed by Recruiter  2016-10-13 16:20:55 +0000       NaN   \n",
       "4      Not Disclosed by Recruiter  2016-10-13 16:20:55 +0000       NaN   \n",
       "\n",
       "                                  skills                           uniq_id  \n",
       "0                                   ITES  43b19632647068535437c774b6ca6cf8  \n",
       "1                              Marketing  d4c72325e57f89f364812b5ed5a795f0  \n",
       "2  IT Software - Application Programming  c47df6f4cfdf5b46f1fd713ba61b9eba  \n",
       "3                               Accounts  115d28f140f694dd1cc61c53d03c66ae  \n",
       "4  IT Software - Application Programming  a12553fc03bc7bcced8b1bb8963f97b4  "
      ]
     },
     "execution_count": 7,
     "metadata": {},
     "output_type": "execute_result"
    }
   ],
   "source": [
    "df.head()"
   ]
  },
  {
   "cell_type": "code",
   "execution_count": null,
   "metadata": {
    "execution": {
     "iopub.execute_input": "2022-02-13T19:22:27.934809Z",
     "iopub.status.busy": "2022-02-13T19:22:27.934422Z",
     "iopub.status.idle": "2022-02-13T19:22:27.941521Z",
     "shell.execute_reply": "2022-02-13T19:22:27.940454Z",
     "shell.execute_reply.started": "2022-02-13T19:22:27.934775Z"
    }
   },
   "outputs": [],
   "source": [
    "df.columns"
   ]
  },
  {
   "cell_type": "code",
   "execution_count": null,
   "metadata": {
    "execution": {
     "iopub.execute_input": "2022-02-13T19:22:27.944341Z",
     "iopub.status.busy": "2022-02-13T19:22:27.94388Z",
     "iopub.status.idle": "2022-02-13T19:22:27.955753Z",
     "shell.execute_reply": "2022-02-13T19:22:27.95446Z",
     "shell.execute_reply.started": "2022-02-13T19:22:27.944291Z"
    }
   },
   "outputs": [],
   "source": [
    "df.shape"
   ]
  },
  {
   "cell_type": "code",
   "execution_count": null,
   "metadata": {
    "execution": {
     "iopub.execute_input": "2022-02-13T19:22:27.958078Z",
     "iopub.status.busy": "2022-02-13T19:22:27.957292Z",
     "iopub.status.idle": "2022-02-13T19:22:28.004039Z",
     "shell.execute_reply": "2022-02-13T19:22:28.002876Z",
     "shell.execute_reply.started": "2022-02-13T19:22:27.958035Z"
    }
   },
   "outputs": [],
   "source": [
    "count_missing = df.isnull().sum()\n",
    "count_missing"
   ]
  },
  {
   "cell_type": "code",
   "execution_count": null,
   "metadata": {
    "execution": {
     "iopub.execute_input": "2022-02-13T19:22:28.006764Z",
     "iopub.status.busy": "2022-02-13T19:22:28.005963Z",
     "iopub.status.idle": "2022-02-13T19:22:28.049822Z",
     "shell.execute_reply": "2022-02-13T19:22:28.048782Z",
     "shell.execute_reply.started": "2022-02-13T19:22:28.006716Z"
    }
   },
   "outputs": [],
   "source": [
    "percent_missing = (df.isnull().sum())* (100/(len(df)))\n",
    "percent_missing"
   ]
  },
  {
   "cell_type": "markdown",
   "metadata": {},
   "source": [
    "#### Making a dataframe from the missing values"
   ]
  },
  {
   "cell_type": "code",
   "execution_count": null,
   "metadata": {
    "execution": {
     "iopub.execute_input": "2022-02-13T19:22:28.052089Z",
     "iopub.status.busy": "2022-02-13T19:22:28.051689Z",
     "iopub.status.idle": "2022-02-13T19:22:28.058518Z",
     "shell.execute_reply": "2022-02-13T19:22:28.057823Z",
     "shell.execute_reply.started": "2022-02-13T19:22:28.052045Z"
    }
   },
   "outputs": [],
   "source": [
    "missing_value_df = pd.DataFrame({\"count_missing\": count_missing,\n",
    "                                 \"percent_missing\": percent_missing})"
   ]
  },
  {
   "cell_type": "code",
   "execution_count": null,
   "metadata": {
    "execution": {
     "iopub.execute_input": "2022-02-13T19:22:28.061058Z",
     "iopub.status.busy": "2022-02-13T19:22:28.060424Z",
     "iopub.status.idle": "2022-02-13T19:22:28.161902Z",
     "shell.execute_reply": "2022-02-13T19:22:28.160781Z",
     "shell.execute_reply.started": "2022-02-13T19:22:28.060821Z"
    }
   },
   "outputs": [],
   "source": [
    "missing_value_df.style.background_gradient(cmap='Spectral')"
   ]
  },
  {
   "cell_type": "markdown",
   "metadata": {},
   "source": [
    "#### Return unique values of all the columns"
   ]
  },
  {
   "cell_type": "code",
   "execution_count": null,
   "metadata": {
    "execution": {
     "iopub.execute_input": "2022-02-13T19:22:28.16639Z",
     "iopub.status.busy": "2022-02-13T19:22:28.166124Z",
     "iopub.status.idle": "2022-02-13T19:22:28.264404Z",
     "shell.execute_reply": "2022-02-13T19:22:28.263538Z",
     "shell.execute_reply.started": "2022-02-13T19:22:28.166361Z"
    }
   },
   "outputs": [],
   "source": [
    "for col in df.columns:\n",
    "    print(f\"{col} has {df[col].nunique()} values\")"
   ]
  },
  {
   "cell_type": "markdown",
   "metadata": {},
   "source": [
    "#### A list containing row name, number of unique values and the unique values"
   ]
  },
  {
   "cell_type": "code",
   "execution_count": null,
   "metadata": {
    "execution": {
     "iopub.execute_input": "2022-02-13T19:22:28.265922Z",
     "iopub.status.busy": "2022-02-13T19:22:28.265654Z",
     "iopub.status.idle": "2022-02-13T19:22:28.360429Z",
     "shell.execute_reply": "2022-02-13T19:22:28.359461Z",
     "shell.execute_reply.started": "2022-02-13T19:22:28.265891Z"
    }
   },
   "outputs": [],
   "source": [
    "unique_df = [[col, df[col].nunique(), df[col].unique()] for col in df.columns]\n",
    "unique_df[:2]"
   ]
  },
  {
   "cell_type": "markdown",
   "metadata": {},
   "source": [
    "<b>We used list comprehension here. The code above works exactly like the following:\n",
    "    \n",
    "<code>\n",
    "unique = []\n",
    "for col in df.columns:\n",
    "    unique.append([col, df[col].nunique(), df[col].unique()])\n",
    "</code>"
   ]
  },
  {
   "cell_type": "code",
   "execution_count": null,
   "metadata": {
    "execution": {
     "iopub.execute_input": "2022-02-13T19:22:28.362258Z",
     "iopub.status.busy": "2022-02-13T19:22:28.362017Z",
     "iopub.status.idle": "2022-02-13T19:22:28.382279Z",
     "shell.execute_reply": "2022-02-13T19:22:28.381533Z",
     "shell.execute_reply.started": "2022-02-13T19:22:28.362228Z"
    }
   },
   "outputs": [],
   "source": [
    "count_df = pd.DataFrame(unique_df, columns=['col_name', 'count', 'unique'])\n",
    "count_df.style.background_gradient(cmap='Spectral')"
   ]
  },
  {
   "cell_type": "markdown",
   "metadata": {},
   "source": [
    "#### Cleaning the 'payrate' feature"
   ]
  },
  {
   "cell_type": "code",
   "execution_count": null,
   "metadata": {
    "execution": {
     "iopub.execute_input": "2022-02-13T19:22:28.383973Z",
     "iopub.status.busy": "2022-02-13T19:22:28.383664Z",
     "iopub.status.idle": "2022-02-13T19:22:28.393487Z",
     "shell.execute_reply": "2022-02-13T19:22:28.392447Z",
     "shell.execute_reply.started": "2022-02-13T19:22:28.383942Z"
    }
   },
   "outputs": [],
   "source": [
    "df['payrate']"
   ]
  },
  {
   "cell_type": "markdown",
   "metadata": {},
   "source": [
    "Here I will find the following for each row<br>\n",
    "1. Minimum Payrate<br>\n",
    "2. Maximum Payrate<br>"
   ]
  },
  {
   "cell_type": "code",
   "execution_count": null,
   "metadata": {
    "execution": {
     "iopub.execute_input": "2022-02-13T19:22:28.3961Z",
     "iopub.status.busy": "2022-02-13T19:22:28.395685Z",
     "iopub.status.idle": "2022-02-13T19:22:28.407471Z",
     "shell.execute_reply": "2022-02-13T19:22:28.406295Z",
     "shell.execute_reply.started": "2022-02-13T19:22:28.396046Z"
    }
   },
   "outputs": [],
   "source": [
    "# The minimum and maximum payrate\n",
    "df['payrate'][0].split(' - ')[0]"
   ]
  },
  {
   "cell_type": "code",
   "execution_count": null,
   "metadata": {
    "execution": {
     "iopub.execute_input": "2022-02-13T19:22:28.409332Z",
     "iopub.status.busy": "2022-02-13T19:22:28.409059Z",
     "iopub.status.idle": "2022-02-13T19:22:28.420654Z",
     "shell.execute_reply": "2022-02-13T19:22:28.419943Z",
     "shell.execute_reply.started": "2022-02-13T19:22:28.409301Z"
    }
   },
   "outputs": [],
   "source": [
    "min_and_max = df['payrate'][0].split(' - ')\n",
    "# min_and_max =>  Gives output ['1,50,000', '2,25,000 P.A']\n",
    "\n",
    "# We will remove ' P.A' from the second i.e. the maximum payrate, so that we get two numbers from min_and_max variable \n",
    "min_and_max[1] = min_and_max[1].split(' ')[0]   # This gives '2,25,000'\n",
    "\n",
    "min_and_max"
   ]
  },
  {
   "cell_type": "markdown",
   "metadata": {},
   "source": [
    "What we have done above only applies for those cells that have a minimum and maximum range. Other than that, the rest will have to be processed diffrently.<br>\n",
    "Here we can say that, after <i>splitting</i>, if there are two values in the list, the values will surely be minimum and maximum payrate (exactly like <i><u>min_and_max</u></i>). So the length of those valid cells will be 2.<br>\n",
    "We can easily find how many valid cells are there using the following method:"
   ]
  },
  {
   "cell_type": "code",
   "execution_count": null,
   "metadata": {
    "execution": {
     "iopub.execute_input": "2022-02-13T19:22:28.422722Z",
     "iopub.status.busy": "2022-02-13T19:22:28.421989Z",
     "iopub.status.idle": "2022-02-13T19:22:28.455507Z",
     "shell.execute_reply": "2022-02-13T19:22:28.454612Z",
     "shell.execute_reply.started": "2022-02-13T19:22:28.42267Z"
    }
   },
   "outputs": [],
   "source": [
    "'''\n",
    "We are creating a list that will have the lengths of the lists after splitting the string around '-'\n",
    "'''\n",
    "len_pay = []\n",
    "for pay in df['payrate']:\n",
    "    len_pay.append(len(str(pay).split('-')))"
   ]
  },
  {
   "cell_type": "code",
   "execution_count": null,
   "metadata": {
    "execution": {
     "iopub.execute_input": "2022-02-13T19:22:28.457241Z",
     "iopub.status.busy": "2022-02-13T19:22:28.456898Z",
     "iopub.status.idle": "2022-02-13T19:22:28.477085Z",
     "shell.execute_reply": "2022-02-13T19:22:28.475767Z",
     "shell.execute_reply.started": "2022-02-13T19:22:28.457198Z"
    }
   },
   "outputs": [],
   "source": [
    "pd.Series(len_pay).value_counts()"
   ]
  },
  {
   "cell_type": "markdown",
   "metadata": {},
   "source": [
    "So we have 4682 values that are valid entries for such processing"
   ]
  },
  {
   "cell_type": "markdown",
   "metadata": {},
   "source": [
    "Here we will create a feature table that will hold all the ranges.<br>\n",
    "For example, if we have a payrate like 1k-2k-3k-4k, we have to store 1k, 2k, 3k, 4k in different columns.<br>\n",
    "This will be an optimal solution. "
   ]
  },
  {
   "cell_type": "code",
   "execution_count": null,
   "metadata": {
    "execution": {
     "iopub.execute_input": "2022-02-13T19:22:28.479616Z",
     "iopub.status.busy": "2022-02-13T19:22:28.478654Z",
     "iopub.status.idle": "2022-02-13T19:22:28.692826Z",
     "shell.execute_reply": "2022-02-13T19:22:28.691876Z",
     "shell.execute_reply.started": "2022-02-13T19:22:28.479566Z"
    }
   },
   "outputs": [],
   "source": [
    "payrate_split = df['payrate'].str.split('-', expand=True)   \n",
    "\n",
    "'''\n",
    "By default the value of expand is False\n",
    "\n",
    "The expand parameter will expand the values in different columns as following\n",
    "'''\n",
    "\n",
    "payrate_split"
   ]
  },
  {
   "cell_type": "markdown",
   "metadata": {},
   "source": [
    "To properly convert the entries into integers, we have to: <br>\n",
    "1. Remove extra spaces<br>\n",
    "2. Remove commas"
   ]
  },
  {
   "cell_type": "code",
   "execution_count": null,
   "metadata": {
    "execution": {
     "iopub.execute_input": "2022-02-13T19:22:28.694639Z",
     "iopub.status.busy": "2022-02-13T19:22:28.694383Z",
     "iopub.status.idle": "2022-02-13T19:22:28.70212Z",
     "shell.execute_reply": "2022-02-13T19:22:28.700847Z",
     "shell.execute_reply.started": "2022-02-13T19:22:28.694604Z"
    }
   },
   "outputs": [],
   "source": [
    "payrate_split[0][0]"
   ]
  },
  {
   "cell_type": "code",
   "execution_count": null,
   "metadata": {
    "execution": {
     "iopub.execute_input": "2022-02-13T19:22:28.703941Z",
     "iopub.status.busy": "2022-02-13T19:22:28.703567Z",
     "iopub.status.idle": "2022-02-13T19:22:28.728914Z",
     "shell.execute_reply": "2022-02-13T19:22:28.72776Z",
     "shell.execute_reply.started": "2022-02-13T19:22:28.703893Z"
    }
   },
   "outputs": [],
   "source": [
    "\n",
    "payrate_split[0] = payrate_split[0].str.strip()"
   ]
  },
  {
   "cell_type": "code",
   "execution_count": null,
   "metadata": {
    "execution": {
     "iopub.execute_input": "2022-02-13T19:22:28.731295Z",
     "iopub.status.busy": "2022-02-13T19:22:28.730984Z",
     "iopub.status.idle": "2022-02-13T19:22:28.761233Z",
     "shell.execute_reply": "2022-02-13T19:22:28.760235Z",
     "shell.execute_reply.started": "2022-02-13T19:22:28.731261Z"
    }
   },
   "outputs": [],
   "source": [
    "payrate_split[0].str.replace(',', '')"
   ]
  },
  {
   "cell_type": "markdown",
   "metadata": {},
   "source": [
    "We can use <b>Lambda</b> function to replace comma will an empty string for each entry<br>\n",
    "It will do the same as the previous cell did."
   ]
  },
  {
   "cell_type": "code",
   "execution_count": null,
   "metadata": {
    "execution": {
     "iopub.execute_input": "2022-02-13T19:22:28.7635Z",
     "iopub.status.busy": "2022-02-13T19:22:28.762479Z",
     "iopub.status.idle": "2022-02-13T19:22:28.788345Z",
     "shell.execute_reply": "2022-02-13T19:22:28.78765Z",
     "shell.execute_reply.started": "2022-02-13T19:22:28.763461Z"
    }
   },
   "outputs": [],
   "source": [
    "payrate_split[0] = payrate_split[0].apply(lambda x: str(x).replace(',', ''))\n",
    "\n",
    "payrate_split[0]"
   ]
  },
  {
   "cell_type": "markdown",
   "metadata": {},
   "source": [
    "Now we have to find whether there are any float values or not.<br>\n",
    "Also we have to deal with the string values. "
   ]
  },
  {
   "cell_type": "markdown",
   "metadata": {
    "execution": {
     "iopub.execute_input": "2022-01-24T18:36:01.581309Z",
     "iopub.status.busy": "2022-01-24T18:36:01.581082Z",
     "iopub.status.idle": "2022-01-24T18:36:01.585685Z",
     "shell.execute_reply": "2022-01-24T18:36:01.584556Z",
     "shell.execute_reply.started": "2022-01-24T18:36:01.58128Z"
    }
   },
   "source": [
    "Now I will get the <b>minimum pay</b> if there is float or int values<br>\n",
    "We have to extract or seperate the values from the features.<br>\n",
    "Possible ways:<br>\n",
    "1. Exception Handling/ try except block\n",
    "2. Regular expression\n",
    "3. <i>to_numeric()</i> function in Pandas\n",
    "4. Any function along with <i>map</i> function."
   ]
  },
  {
   "cell_type": "markdown",
   "metadata": {},
   "source": [
    "#### 1. Exception\n",
    "\n",
    "> In the <i>try block</i>, there will be an <b>if condition</b> that will check whether the value is float. If not, then that is the missing value\n",
    "\n",
    "<br>\n",
    "\n",
    "> try:<br>\n",
    "> &emsp; if dtype(payrate) == float<br>\n",
    "> except:<br>\n",
    "> &emsp; \"Missing Value\""
   ]
  },
  {
   "cell_type": "code",
   "execution_count": null,
   "metadata": {
    "execution": {
     "iopub.execute_input": "2022-02-13T19:22:28.790251Z",
     "iopub.status.busy": "2022-02-13T19:22:28.789662Z",
     "iopub.status.idle": "2022-02-13T19:22:28.829922Z",
     "shell.execute_reply": "2022-02-13T19:22:28.828295Z",
     "shell.execute_reply.started": "2022-02-13T19:22:28.790217Z"
    }
   },
   "outputs": [],
   "source": [
    "pay = []      # This will contain the converted values of the first column of \"payrate_split\"\n",
    "for payrate in payrate_split[0]:\n",
    "    try:\n",
    "        if type(float(payrate)) == np.float:\n",
    "            pay.append(payrate)\n",
    "    except:\n",
    "            pay.append(\"missing value\")\n"
   ]
  },
  {
   "cell_type": "markdown",
   "metadata": {},
   "source": [
    "#### 2. to_numeric function"
   ]
  },
  {
   "cell_type": "code",
   "execution_count": null,
   "metadata": {
    "execution": {
     "iopub.execute_input": "2022-02-13T19:22:28.831373Z",
     "iopub.status.busy": "2022-02-13T19:22:28.831133Z",
     "iopub.status.idle": "2022-02-13T19:22:28.874522Z",
     "shell.execute_reply": "2022-02-13T19:22:28.873578Z",
     "shell.execute_reply.started": "2022-02-13T19:22:28.831345Z"
    }
   },
   "outputs": [],
   "source": [
    "pd.to_numeric(payrate_split[0], errors='coerce')"
   ]
  },
  {
   "cell_type": "markdown",
   "metadata": {},
   "source": [
    "#### 3. Regular Expression\n",
    "\n",
    "> pattern = '\\D.*' <br>\n",
    "> This means anything other than digits"
   ]
  },
  {
   "cell_type": "code",
   "execution_count": null,
   "metadata": {
    "execution": {
     "iopub.execute_input": "2022-02-13T19:22:28.87659Z",
     "iopub.status.busy": "2022-02-13T19:22:28.876137Z",
     "iopub.status.idle": "2022-02-13T19:22:28.889666Z",
     "shell.execute_reply": "2022-02-13T19:22:28.888585Z",
     "shell.execute_reply.started": "2022-02-13T19:22:28.876549Z"
    }
   },
   "outputs": [],
   "source": [
    "# A pattern that contains no numeric values\n",
    "pattern = '\\D.*'"
   ]
  },
  {
   "cell_type": "code",
   "execution_count": null,
   "metadata": {
    "execution": {
     "iopub.execute_input": "2022-02-13T19:22:28.89313Z",
     "iopub.status.busy": "2022-02-13T19:22:28.892225Z",
     "iopub.status.idle": "2022-02-13T19:22:28.934882Z",
     "shell.execute_reply": "2022-02-13T19:22:28.933785Z",
     "shell.execute_reply.started": "2022-02-13T19:22:28.893043Z"
    }
   },
   "outputs": [],
   "source": [
    "payrate_split[0].str.replace(pattern, '')"
   ]
  },
  {
   "cell_type": "markdown",
   "metadata": {},
   "source": [
    "#### 4. \"any\" and \"map\""
   ]
  },
  {
   "cell_type": "code",
   "execution_count": null,
   "metadata": {
    "execution": {
     "iopub.execute_input": "2022-02-13T19:22:28.936809Z",
     "iopub.status.busy": "2022-02-13T19:22:28.936226Z",
     "iopub.status.idle": "2022-02-13T19:22:28.943366Z",
     "shell.execute_reply": "2022-02-13T19:22:28.94264Z",
     "shell.execute_reply.started": "2022-02-13T19:22:28.936767Z"
    }
   },
   "outputs": [],
   "source": [
    "any(map(str.isdigit, payrate_split[0]))"
   ]
  },
  {
   "cell_type": "code",
   "execution_count": null,
   "metadata": {
    "execution": {
     "iopub.execute_input": "2022-02-13T19:22:28.948624Z",
     "iopub.status.busy": "2022-02-13T19:22:28.947935Z",
     "iopub.status.idle": "2022-02-13T19:22:28.958305Z",
     "shell.execute_reply": "2022-02-13T19:22:28.957172Z",
     "shell.execute_reply.started": "2022-02-13T19:22:28.948581Z"
    }
   },
   "outputs": [],
   "source": [
    "any(map(str.isnumeric, payrate_split[0]))"
   ]
  },
  {
   "cell_type": "markdown",
   "metadata": {},
   "source": [
    "Now we will look and do something with the remaining columns of <i>payrate_split</i> <br>\n",
    "The second column, or <b>payrate_split[1]</b> will have the max value. Here we have to follow some steps, which are: <br>\n",
    "1. Removing all the extra white spaces.\n",
    "2. Removing all the commas.\n",
    "3. Removing set of characters.\n",
    "4. Changing data type to float/int.\n"
   ]
  },
  {
   "cell_type": "code",
   "execution_count": null,
   "metadata": {
    "execution": {
     "iopub.execute_input": "2022-02-13T19:22:28.960765Z",
     "iopub.status.busy": "2022-02-13T19:22:28.96017Z",
     "iopub.status.idle": "2022-02-13T19:22:28.984438Z",
     "shell.execute_reply": "2022-02-13T19:22:28.983383Z",
     "shell.execute_reply.started": "2022-02-13T19:22:28.960717Z"
    }
   },
   "outputs": [],
   "source": [
    "payrate_split[1] = payrate_split[1].str.strip()\n",
    "payrate_split[1]"
   ]
  },
  {
   "cell_type": "code",
   "execution_count": null,
   "metadata": {
    "execution": {
     "iopub.execute_input": "2022-02-13T19:22:28.986226Z",
     "iopub.status.busy": "2022-02-13T19:22:28.985996Z",
     "iopub.status.idle": "2022-02-13T19:22:29.007651Z",
     "shell.execute_reply": "2022-02-13T19:22:29.006769Z",
     "shell.execute_reply.started": "2022-02-13T19:22:28.986199Z"
    }
   },
   "outputs": [],
   "source": [
    "payrate_split[1] = payrate_split[1].apply(lambda x: str(x).replace(',', ''))"
   ]
  },
  {
   "cell_type": "code",
   "execution_count": null,
   "metadata": {
    "execution": {
     "iopub.execute_input": "2022-02-13T19:22:29.009104Z",
     "iopub.status.busy": "2022-02-13T19:22:29.008872Z",
     "iopub.status.idle": "2022-02-13T19:22:29.044582Z",
     "shell.execute_reply": "2022-02-13T19:22:29.043886Z",
     "shell.execute_reply.started": "2022-02-13T19:22:29.009078Z"
    }
   },
   "outputs": [],
   "source": [
    "pattern = '\\D.*'\n",
    "\n",
    "payrate_split[1] = payrate_split[1].str.replace(pattern, '')"
   ]
  },
  {
   "cell_type": "code",
   "execution_count": null,
   "metadata": {
    "execution": {
     "iopub.execute_input": "2022-02-13T19:22:29.046267Z",
     "iopub.status.busy": "2022-02-13T19:22:29.045876Z",
     "iopub.status.idle": "2022-02-13T19:22:29.053054Z",
     "shell.execute_reply": "2022-02-13T19:22:29.051767Z",
     "shell.execute_reply.started": "2022-02-13T19:22:29.046227Z"
    }
   },
   "outputs": [],
   "source": [
    "payrate_split.dtypes"
   ]
  },
  {
   "cell_type": "code",
   "execution_count": null,
   "metadata": {
    "execution": {
     "iopub.execute_input": "2022-02-13T19:22:29.05457Z",
     "iopub.status.busy": "2022-02-13T19:22:29.054269Z",
     "iopub.status.idle": "2022-02-13T19:22:29.097553Z",
     "shell.execute_reply": "2022-02-13T19:22:29.096732Z",
     "shell.execute_reply.started": "2022-02-13T19:22:29.054531Z"
    }
   },
   "outputs": [],
   "source": [
    "payrate_split[0] = pd.to_numeric(payrate_split[0], errors='coerce')  # For the minimum pay feature\n",
    "payrate_split[1] = pd.to_numeric(payrate_split[1], errors='coerce')  # For the maximum pay feature"
   ]
  },
  {
   "cell_type": "code",
   "execution_count": null,
   "metadata": {
    "execution": {
     "iopub.execute_input": "2022-02-13T19:22:29.099065Z",
     "iopub.status.busy": "2022-02-13T19:22:29.098818Z",
     "iopub.status.idle": "2022-02-13T19:22:29.105979Z",
     "shell.execute_reply": "2022-02-13T19:22:29.105061Z",
     "shell.execute_reply.started": "2022-02-13T19:22:29.099034Z"
    }
   },
   "outputs": [],
   "source": [
    "payrate_split.dtypes"
   ]
  },
  {
   "cell_type": "markdown",
   "metadata": {},
   "source": [
    "> Now we have to insert this minimum and maximum payrate in the main <i>df</i> dataframe which can be done in two ways. \n",
    "\n",
    "1. Defining new column in *df* for minimum and maximum payrate. (When you are adding below 5 features, just like now)\n",
    "2. Concatenation Approach, using pandas library. (When you are adding more than 5-10 features)\n",
    "\n"
   ]
  },
  {
   "cell_type": "markdown",
   "metadata": {},
   "source": [
    "#### Defining new columns"
   ]
  },
  {
   "cell_type": "code",
   "execution_count": null,
   "metadata": {
    "execution": {
     "iopub.execute_input": "2022-02-13T19:22:29.107519Z",
     "iopub.status.busy": "2022-02-13T19:22:29.107283Z",
     "iopub.status.idle": "2022-02-13T19:22:29.116981Z",
     "shell.execute_reply": "2022-02-13T19:22:29.116242Z",
     "shell.execute_reply.started": "2022-02-13T19:22:29.107492Z"
    }
   },
   "outputs": [],
   "source": [
    "# df['min_pay'] = payrate_split[0]\n",
    "# df['max_pay'] = payrate_split[1]"
   ]
  },
  {
   "cell_type": "markdown",
   "metadata": {},
   "source": [
    "### Concatenation using *pd.concat()* function"
   ]
  },
  {
   "cell_type": "code",
   "execution_count": null,
   "metadata": {
    "execution": {
     "iopub.execute_input": "2022-02-13T19:22:29.118653Z",
     "iopub.status.busy": "2022-02-13T19:22:29.118012Z",
     "iopub.status.idle": "2022-02-13T19:22:29.143942Z",
     "shell.execute_reply": "2022-02-13T19:22:29.143214Z",
     "shell.execute_reply.started": "2022-02-13T19:22:29.11861Z"
    }
   },
   "outputs": [],
   "source": [
    "pay = pd.concat([payrate_split[0], payrate_split[1]], axis=1, sort=False)\n",
    "pay.columns = ['min_pay', 'max_pay']\n",
    "pay"
   ]
  },
  {
   "cell_type": "code",
   "execution_count": null,
   "metadata": {
    "execution": {
     "iopub.execute_input": "2022-02-13T19:22:29.145247Z",
     "iopub.status.busy": "2022-02-13T19:22:29.144901Z",
     "iopub.status.idle": "2022-02-13T19:22:29.163376Z",
     "shell.execute_reply": "2022-02-13T19:22:29.16226Z",
     "shell.execute_reply.started": "2022-02-13T19:22:29.145214Z"
    }
   },
   "outputs": [],
   "source": [
    "df = pd.concat([df, pay], axis=1, sort=False)"
   ]
  },
  {
   "cell_type": "code",
   "execution_count": null,
   "metadata": {
    "execution": {
     "iopub.execute_input": "2022-02-13T19:22:29.165155Z",
     "iopub.status.busy": "2022-02-13T19:22:29.164567Z",
     "iopub.status.idle": "2022-02-13T19:22:29.187598Z",
     "shell.execute_reply": "2022-02-13T19:22:29.186619Z",
     "shell.execute_reply.started": "2022-02-13T19:22:29.16512Z"
    }
   },
   "outputs": [],
   "source": [
    "df.head()"
   ]
  },
  {
   "cell_type": "markdown",
   "metadata": {},
   "source": [
    "### Cleaning and featurizing *'experience'*  feature"
   ]
  },
  {
   "cell_type": "code",
   "execution_count": null,
   "metadata": {
    "execution": {
     "iopub.execute_input": "2022-02-13T19:22:29.189039Z",
     "iopub.status.busy": "2022-02-13T19:22:29.188802Z",
     "iopub.status.idle": "2022-02-13T19:22:29.199481Z",
     "shell.execute_reply": "2022-02-13T19:22:29.198373Z",
     "shell.execute_reply.started": "2022-02-13T19:22:29.189011Z"
    }
   },
   "outputs": [],
   "source": [
    "df['experience'][0]"
   ]
  },
  {
   "cell_type": "code",
   "execution_count": null,
   "metadata": {
    "execution": {
     "iopub.execute_input": "2022-02-13T19:22:29.20124Z",
     "iopub.status.busy": "2022-02-13T19:22:29.201015Z",
     "iopub.status.idle": "2022-02-13T19:22:29.211205Z",
     "shell.execute_reply": "2022-02-13T19:22:29.209782Z",
     "shell.execute_reply.started": "2022-02-13T19:22:29.201215Z"
    }
   },
   "outputs": [],
   "source": [
    "# exp_list = list(df['experience'].apply(lambda x: str(x)[:-3:].strip().split(' - ')))\n",
    "\n",
    "# exp_len = [len(i) for i in exp_list]\n",
    "# # exp_list, ex_len\n"
   ]
  },
  {
   "cell_type": "markdown",
   "metadata": {
    "execution": {
     "iopub.execute_input": "2022-02-11T17:45:10.271984Z",
     "iopub.status.busy": "2022-02-11T17:45:10.271474Z",
     "iopub.status.idle": "2022-02-11T17:45:10.276742Z",
     "shell.execute_reply": "2022-02-11T17:45:10.276055Z",
     "shell.execute_reply.started": "2022-02-11T17:45:10.271949Z"
    }
   },
   "source": [
    "    def split_exp(exp):    \n",
    "        min_exp = exp.split('-')[0]\n",
    "        max_exp = exp.split('-')[1]\n",
    "    \n",
    "        return min_exp, max_exp\n",
    "        \n",
    "        \n",
    "  We could have done the above. But we won't always have sweet data as '1 - 3 year', we may have **null** values or **1 - 3 - 5 years** type values. <br>\n",
    "  So what we have to do here is as following:\n"
   ]
  },
  {
   "cell_type": "code",
   "execution_count": null,
   "metadata": {
    "execution": {
     "iopub.execute_input": "2022-02-13T19:22:29.213044Z",
     "iopub.status.busy": "2022-02-13T19:22:29.212355Z",
     "iopub.status.idle": "2022-02-13T19:22:29.245069Z",
     "shell.execute_reply": "2022-02-13T19:22:29.244133Z",
     "shell.execute_reply.started": "2022-02-13T19:22:29.213008Z"
    }
   },
   "outputs": [],
   "source": [
    "len1 = []\n",
    "\n",
    "for exp in df['experience'].dropna():\n",
    "    if len(exp.split('-')) != 2:\n",
    "        len1.append(exp)\n",
    "        \n",
    "len1"
   ]
  },
  {
   "cell_type": "markdown",
   "metadata": {},
   "source": [
    "#### I can drop all the rows having \"Not Mentioned\", which is not a handy approach. Other than this, there is also an optimal solution which is enhancing split_exp function by using \"exception handling\""
   ]
  },
  {
   "cell_type": "code",
   "execution_count": null,
   "metadata": {
    "execution": {
     "iopub.execute_input": "2022-02-13T19:22:29.247286Z",
     "iopub.status.busy": "2022-02-13T19:22:29.246752Z",
     "iopub.status.idle": "2022-02-13T19:22:29.255181Z",
     "shell.execute_reply": "2022-02-13T19:22:29.25406Z",
     "shell.execute_reply.started": "2022-02-13T19:22:29.247243Z"
    }
   },
   "outputs": [],
   "source": [
    "def split_exp(exp):\n",
    "    try:\n",
    "        if len(exp.split('-')) == 2:\n",
    "            min_exp = exp.split('-')[0]\n",
    "            max_exp = exp.split('-')[1]\n",
    "        return pd.Series([min_exp, max_exp])\n",
    "    except:\n",
    "        return pd.Series([np.nan, np.nan])\n",
    "    \n",
    "# To append the new data easily, we are returning pd.Series() data here. "
   ]
  },
  {
   "cell_type": "code",
   "execution_count": null,
   "metadata": {
    "execution": {
     "iopub.execute_input": "2022-02-13T19:22:29.257533Z",
     "iopub.status.busy": "2022-02-13T19:22:29.256935Z",
     "iopub.status.idle": "2022-02-13T19:22:34.378319Z",
     "shell.execute_reply": "2022-02-13T19:22:34.377471Z",
     "shell.execute_reply.started": "2022-02-13T19:22:29.257483Z"
    }
   },
   "outputs": [],
   "source": [
    "df[['min_exp', 'max_exp']] = df['experience'].apply(split_exp).rename(columns={0:'min_exp', 1:'max_exp'})"
   ]
  },
  {
   "cell_type": "markdown",
   "metadata": {},
   "source": [
    "Now we will talk about the rows where the experience value is **Not Mentioned**<br>\n",
    "I will create another DataFrame for that and filter out those peculiar values.<br>\n",
    "We will store those values in *nm* variable which means *not mentioned*"
   ]
  },
  {
   "cell_type": "code",
   "execution_count": null,
   "metadata": {
    "execution": {
     "iopub.execute_input": "2022-02-13T19:22:34.38032Z",
     "iopub.status.busy": "2022-02-13T19:22:34.379839Z",
     "iopub.status.idle": "2022-02-13T19:22:34.411295Z",
     "shell.execute_reply": "2022-02-13T19:22:34.410503Z",
     "shell.execute_reply.started": "2022-02-13T19:22:34.380287Z"
    }
   },
   "outputs": [],
   "source": [
    "nm = pd.DataFrame(df['experience'].str.contains(\"Not Mentioned\"))\n",
    "\n",
    "nm[nm['experience'] == True]"
   ]
  },
  {
   "cell_type": "markdown",
   "metadata": {},
   "source": [
    "Now if I want to get the indices of these values, then I will add *.index* after the previous line of code."
   ]
  },
  {
   "cell_type": "code",
   "execution_count": null,
   "metadata": {
    "execution": {
     "iopub.execute_input": "2022-02-13T19:22:34.412975Z",
     "iopub.status.busy": "2022-02-13T19:22:34.412685Z",
     "iopub.status.idle": "2022-02-13T19:22:34.425722Z",
     "shell.execute_reply": "2022-02-13T19:22:34.424357Z",
     "shell.execute_reply.started": "2022-02-13T19:22:34.412946Z"
    }
   },
   "outputs": [],
   "source": [
    "nm[nm['experience'] == True].index"
   ]
  },
  {
   "cell_type": "markdown",
   "metadata": {},
   "source": [
    "The above values are indices of those rows with values \"Not Mentioned\".<br>\n",
    "Now if I want to put this value into the funtion **split_exp**, I will get NaN values. "
   ]
  },
  {
   "cell_type": "code",
   "execution_count": null,
   "metadata": {
    "execution": {
     "iopub.execute_input": "2022-02-13T19:22:34.427946Z",
     "iopub.status.busy": "2022-02-13T19:22:34.42728Z",
     "iopub.status.idle": "2022-02-13T19:22:34.434807Z",
     "shell.execute_reply": "2022-02-13T19:22:34.433989Z",
     "shell.execute_reply.started": "2022-02-13T19:22:34.4279Z"
    }
   },
   "outputs": [],
   "source": [
    "nm['experience'][1138]"
   ]
  },
  {
   "cell_type": "code",
   "execution_count": null,
   "metadata": {
    "execution": {
     "iopub.execute_input": "2022-02-13T19:22:34.436763Z",
     "iopub.status.busy": "2022-02-13T19:22:34.436102Z",
     "iopub.status.idle": "2022-02-13T19:22:34.448581Z",
     "shell.execute_reply": "2022-02-13T19:22:34.447781Z",
     "shell.execute_reply.started": "2022-02-13T19:22:34.43672Z"
    }
   },
   "outputs": [],
   "source": [
    "# The result of this code will be NaN. Because the returned values causes an exception.\n",
    "split_exp(df['experience'][1138])"
   ]
  },
  {
   "cell_type": "code",
   "execution_count": null,
   "metadata": {
    "execution": {
     "iopub.execute_input": "2022-02-13T19:22:34.451895Z",
     "iopub.status.busy": "2022-02-13T19:22:34.450054Z",
     "iopub.status.idle": "2022-02-13T19:22:34.475552Z",
     "shell.execute_reply": "2022-02-13T19:22:34.474912Z",
     "shell.execute_reply.started": "2022-02-13T19:22:34.45185Z"
    }
   },
   "outputs": [],
   "source": [
    "df.head(3)"
   ]
  },
  {
   "cell_type": "markdown",
   "metadata": {},
   "source": [
    "Now removing 'yrs' from the **max_exp** column and update the column"
   ]
  },
  {
   "cell_type": "code",
   "execution_count": null,
   "metadata": {
    "execution": {
     "iopub.execute_input": "2022-02-13T19:22:34.477464Z",
     "iopub.status.busy": "2022-02-13T19:22:34.47691Z",
     "iopub.status.idle": "2022-02-13T19:22:34.509838Z",
     "shell.execute_reply": "2022-02-13T19:22:34.508902Z",
     "shell.execute_reply.started": "2022-02-13T19:22:34.477419Z"
    }
   },
   "outputs": [],
   "source": [
    "df['max_exp'] = df['max_exp'].str.replace('yrs', '')"
   ]
  },
  {
   "cell_type": "code",
   "execution_count": null,
   "metadata": {
    "execution": {
     "iopub.execute_input": "2022-02-13T19:22:34.51185Z",
     "iopub.status.busy": "2022-02-13T19:22:34.511256Z",
     "iopub.status.idle": "2022-02-13T19:22:34.538826Z",
     "shell.execute_reply": "2022-02-13T19:22:34.538007Z",
     "shell.execute_reply.started": "2022-02-13T19:22:34.511807Z"
    }
   },
   "outputs": [],
   "source": [
    "df.head(3)"
   ]
  },
  {
   "cell_type": "code",
   "execution_count": null,
   "metadata": {
    "execution": {
     "iopub.execute_input": "2022-02-13T19:22:34.540388Z",
     "iopub.status.busy": "2022-02-13T19:22:34.540157Z",
     "iopub.status.idle": "2022-02-13T19:22:34.55379Z",
     "shell.execute_reply": "2022-02-13T19:22:34.552773Z",
     "shell.execute_reply.started": "2022-02-13T19:22:34.54036Z"
    }
   },
   "outputs": [],
   "source": [
    "df.dtypes"
   ]
  },
  {
   "cell_type": "markdown",
   "metadata": {},
   "source": [
    "We will convert min_exp and max_exp to float"
   ]
  },
  {
   "cell_type": "code",
   "execution_count": null,
   "metadata": {
    "execution": {
     "iopub.execute_input": "2022-02-13T19:22:34.555887Z",
     "iopub.status.busy": "2022-02-13T19:22:34.5554Z",
     "iopub.status.idle": "2022-02-13T19:22:34.574735Z",
     "shell.execute_reply": "2022-02-13T19:22:34.573673Z",
     "shell.execute_reply.started": "2022-02-13T19:22:34.555849Z"
    }
   },
   "outputs": [],
   "source": [
    "df['max_exp'] = df['max_exp'].astype(float)\n",
    "df['min_exp'] = df['min_exp'].astype(float)"
   ]
  },
  {
   "cell_type": "markdown",
   "metadata": {},
   "source": [
    "From the **min_pay, max_pay** columns and **min_exp, max_exp** columns, avg_pay and avg_exp can be derived. Which will give us more insight on the data."
   ]
  },
  {
   "cell_type": "markdown",
   "metadata": {},
   "source": [
    "### Perform Feature Engineering on **postdate** feature"
   ]
  },
  {
   "cell_type": "markdown",
   "metadata": {},
   "source": [
    "##### Approaches:\n",
    "1. Define own function.\n",
    "2. Inbuilt functions, using datetime module\n",
    "3. Optimal way: Lambda function\n",
    "4. map function"
   ]
  },
  {
   "cell_type": "markdown",
   "metadata": {},
   "source": [
    "#### Approach 1. Define own function"
   ]
  },
  {
   "cell_type": "code",
   "execution_count": null,
   "metadata": {
    "execution": {
     "iopub.execute_input": "2022-02-13T19:22:34.576784Z",
     "iopub.status.busy": "2022-02-13T19:22:34.576171Z",
     "iopub.status.idle": "2022-02-13T19:22:34.591409Z",
     "shell.execute_reply": "2022-02-13T19:22:34.590766Z",
     "shell.execute_reply.started": "2022-02-13T19:22:34.576752Z"
    }
   },
   "outputs": [],
   "source": [
    "df['postdate']"
   ]
  },
  {
   "cell_type": "markdown",
   "metadata": {},
   "source": [
    "There are 2 types of datetime datatypes:\n",
    "1. datetime64[ns]\n",
    "2. <M8[ns]\n",
    "\n",
    "both are basically same. But the entire structure depends on how numpy datatype is designed. <br>\n",
    "In the following code we can see that both the datatypes are same."
   ]
  },
  {
   "cell_type": "code",
   "execution_count": null,
   "metadata": {
    "execution": {
     "iopub.execute_input": "2022-02-13T19:22:34.593215Z",
     "iopub.status.busy": "2022-02-13T19:22:34.592817Z",
     "iopub.status.idle": "2022-02-13T19:22:34.606452Z",
     "shell.execute_reply": "2022-02-13T19:22:34.60576Z",
     "shell.execute_reply.started": "2022-02-13T19:22:34.593172Z"
    }
   },
   "outputs": [],
   "source": [
    "np.dtype('datetime64[ns]') == np.dtype('<M8[ns]')"
   ]
  },
  {
   "cell_type": "code",
   "execution_count": null,
   "metadata": {
    "execution": {
     "iopub.execute_input": "2022-02-13T19:22:34.608661Z",
     "iopub.status.busy": "2022-02-13T19:22:34.607449Z",
     "iopub.status.idle": "2022-02-13T19:22:34.620861Z",
     "shell.execute_reply": "2022-02-13T19:22:34.620042Z",
     "shell.execute_reply.started": "2022-02-13T19:22:34.608623Z"
    }
   },
   "outputs": [],
   "source": [
    "df['postdate'].dtype"
   ]
  },
  {
   "cell_type": "markdown",
   "metadata": {},
   "source": [
    "Here I will write a function that will get day, month and year from each row."
   ]
  },
  {
   "cell_type": "code",
   "execution_count": null,
   "metadata": {
    "execution": {
     "iopub.execute_input": "2022-02-13T19:22:34.623053Z",
     "iopub.status.busy": "2022-02-13T19:22:34.62202Z",
     "iopub.status.idle": "2022-02-13T19:22:34.631746Z",
     "shell.execute_reply": "2022-02-13T19:22:34.630786Z",
     "shell.execute_reply.started": "2022-02-13T19:22:34.622999Z"
    }
   },
   "outputs": [],
   "source": [
    "def fetch_dt_att(dataframe, feature):\n",
    "    try:\n",
    "       return pd.Series([dataframe[feature].dt.day, dataframe[feature].dt.month, dataframe[feature].dt.year])\n",
    "    except:\n",
    "        print('Data type is not supported')"
   ]
  },
  {
   "cell_type": "code",
   "execution_count": null,
   "metadata": {
    "execution": {
     "iopub.execute_input": "2022-02-13T19:22:34.633129Z",
     "iopub.status.busy": "2022-02-13T19:22:34.632908Z",
     "iopub.status.idle": "2022-02-13T19:22:34.645433Z",
     "shell.execute_reply": "2022-02-13T19:22:34.644552Z",
     "shell.execute_reply.started": "2022-02-13T19:22:34.633103Z"
    }
   },
   "outputs": [],
   "source": [
    "fetch_dt_att(df, 'postdate')"
   ]
  },
  {
   "cell_type": "markdown",
   "metadata": {},
   "source": [
    "We have not changed the data-type of the **postdate** feature. We will do it here. "
   ]
  },
  {
   "cell_type": "code",
   "execution_count": null,
   "metadata": {
    "execution": {
     "iopub.execute_input": "2022-02-13T19:22:34.64736Z",
     "iopub.status.busy": "2022-02-13T19:22:34.646775Z",
     "iopub.status.idle": "2022-02-13T19:22:34.666089Z",
     "shell.execute_reply": "2022-02-13T19:22:34.665399Z",
     "shell.execute_reply.started": "2022-02-13T19:22:34.647313Z"
    }
   },
   "outputs": [],
   "source": [
    "df['postdate'] = pd.to_datetime(df['postdate'])"
   ]
  },
  {
   "cell_type": "code",
   "execution_count": null,
   "metadata": {
    "execution": {
     "iopub.execute_input": "2022-02-13T19:22:34.668027Z",
     "iopub.status.busy": "2022-02-13T19:22:34.667171Z",
     "iopub.status.idle": "2022-02-13T19:22:34.71225Z",
     "shell.execute_reply": "2022-02-13T19:22:34.711402Z",
     "shell.execute_reply.started": "2022-02-13T19:22:34.667982Z"
    }
   },
   "outputs": [],
   "source": [
    "df[['day', 'month', 'year']] = fetch_dt_att(df, 'postdate')\n",
    "\n",
    "df.head()"
   ]
  },
  {
   "cell_type": "markdown",
   "metadata": {},
   "source": [
    "#### Approach 3. Using 'Lambda'"
   ]
  },
  {
   "cell_type": "code",
   "execution_count": null,
   "metadata": {},
   "outputs": [],
   "source": []
  },
  {
   "cell_type": "markdown",
   "metadata": {},
   "source": [
    "#### Approach 4. Use 'map' function"
   ]
  },
  {
   "cell_type": "markdown",
   "metadata": {},
   "source": [
    "First I will define the function"
   ]
  },
  {
   "cell_type": "code",
   "execution_count": null,
   "metadata": {
    "execution": {
     "iopub.execute_input": "2022-02-13T19:22:34.714548Z",
     "iopub.status.busy": "2022-02-13T19:22:34.714042Z",
     "iopub.status.idle": "2022-02-13T19:22:34.719128Z",
     "shell.execute_reply": "2022-02-13T19:22:34.71819Z",
     "shell.execute_reply.started": "2022-02-13T19:22:34.714515Z"
    }
   },
   "outputs": [],
   "source": [
    "def fetch_dt_att2(x):\n",
    "    return ([x.day, x.month, x.year])"
   ]
  },
  {
   "cell_type": "code",
   "execution_count": null,
   "metadata": {
    "execution": {
     "iopub.execute_input": "2022-02-13T19:22:34.720901Z",
     "iopub.status.busy": "2022-02-13T19:22:34.720264Z",
     "iopub.status.idle": "2022-02-13T19:22:34.816216Z",
     "shell.execute_reply": "2022-02-13T19:22:34.815069Z",
     "shell.execute_reply.started": "2022-02-13T19:22:34.72086Z"
    }
   },
   "outputs": [],
   "source": [
    "fe_date = pd.DataFrame(map(fetch_dt_att2, df['postdate'])).rename(columns={0: 'day', 1: 'month', 2: 'year'})\n",
    "fe_date"
   ]
  },
  {
   "cell_type": "markdown",
   "metadata": {},
   "source": [
    "We can concatenate this **fe_date** with df and will get the 3 columns. Since we have already done that using the previous steps, here I will not do it.<br>\n",
    "Following is the code for it."
   ]
  },
  {
   "cell_type": "code",
   "execution_count": null,
   "metadata": {
    "execution": {
     "iopub.execute_input": "2022-02-13T19:22:34.818596Z",
     "iopub.status.busy": "2022-02-13T19:22:34.817803Z",
     "iopub.status.idle": "2022-02-13T19:22:34.823264Z",
     "shell.execute_reply": "2022-02-13T19:22:34.822217Z",
     "shell.execute_reply.started": "2022-02-13T19:22:34.818552Z"
    }
   },
   "outputs": [],
   "source": [
    "# pd.concat([df, fe_date], axis=1)"
   ]
  },
  {
   "cell_type": "markdown",
   "metadata": {},
   "source": [
    "### Prepare job_location feature"
   ]
  },
  {
   "cell_type": "code",
   "execution_count": null,
   "metadata": {
    "execution": {
     "iopub.execute_input": "2022-02-13T19:22:34.825395Z",
     "iopub.status.busy": "2022-02-13T19:22:34.824938Z",
     "iopub.status.idle": "2022-02-13T19:22:34.844536Z",
     "shell.execute_reply": "2022-02-13T19:22:34.843564Z",
     "shell.execute_reply.started": "2022-02-13T19:22:34.825359Z"
    }
   },
   "outputs": [],
   "source": [
    "df['joblocation_address'].value_counts().head(10)"
   ]
  },
  {
   "cell_type": "markdown",
   "metadata": {},
   "source": [
    "Make a copy so that whatever manipulation is done, can be reverted back."
   ]
  },
  {
   "cell_type": "code",
   "execution_count": null,
   "metadata": {
    "execution": {
     "iopub.execute_input": "2022-02-13T19:30:31.246943Z",
     "iopub.status.busy": "2022-02-13T19:30:31.246612Z",
     "iopub.status.idle": "2022-02-13T19:30:31.267348Z",
     "shell.execute_reply": "2022-02-13T19:30:31.26618Z",
     "shell.execute_reply.started": "2022-02-13T19:30:31.24691Z"
    }
   },
   "outputs": [],
   "source": [
    "data = df.copy()"
   ]
  },
  {
   "cell_type": "code",
   "execution_count": null,
   "metadata": {
    "execution": {
     "iopub.execute_input": "2022-02-13T19:49:59.160417Z",
     "iopub.status.busy": "2022-02-13T19:49:59.159355Z",
     "iopub.status.idle": "2022-02-13T19:49:59.173752Z",
     "shell.execute_reply": "2022-02-13T19:49:59.172791Z",
     "shell.execute_reply.started": "2022-02-13T19:49:59.160364Z"
    }
   },
   "outputs": [],
   "source": [
    "pd.Series(data['joblocation_address'].unique())"
   ]
  },
  {
   "cell_type": "code",
   "execution_count": null,
   "metadata": {
    "execution": {
     "iopub.execute_input": "2022-02-13T19:50:32.164008Z",
     "iopub.status.busy": "2022-02-13T19:50:32.163655Z",
     "iopub.status.idle": "2022-02-13T19:50:32.177051Z",
     "shell.execute_reply": "2022-02-13T19:50:32.175941Z",
     "shell.execute_reply.started": "2022-02-13T19:50:32.163975Z"
    }
   },
   "outputs": [],
   "source": [
    "data['joblocation_address'].value_counts().head(60).index"
   ]
  },
  {
   "cell_type": "markdown",
   "metadata": {},
   "source": [
    "We can see that, there are some data repeatations. <br>\n",
    "Some replacements are needed, which will be stored in dictionary. <br>\n",
    "I will upload another csv file that will have the replacements.<br>"
   ]
  },
  {
   "cell_type": "code",
   "execution_count": null,
   "metadata": {
    "execution": {
     "iopub.execute_input": "2022-02-13T20:44:29.997867Z",
     "iopub.status.busy": "2022-02-13T20:44:29.996951Z",
     "iopub.status.idle": "2022-02-13T20:44:30.017791Z",
     "shell.execute_reply": "2022-02-13T20:44:30.016417Z",
     "shell.execute_reply.started": "2022-02-13T20:44:29.997809Z"
    }
   },
   "outputs": [],
   "source": [
    "rep = pd.read_csv(r'/kaggle/input/d/junaidmahmud/replacements/replacements.csv').set_index('Unnamed: 0')\n",
    "rep"
   ]
  },
  {
   "cell_type": "code",
   "execution_count": null,
   "metadata": {
    "execution": {
     "iopub.execute_input": "2022-02-13T20:44:45.397161Z",
     "iopub.status.busy": "2022-02-13T20:44:45.396844Z",
     "iopub.status.idle": "2022-02-13T20:44:45.403519Z",
     "shell.execute_reply": "2022-02-13T20:44:45.402262Z",
     "shell.execute_reply.started": "2022-02-13T20:44:45.397129Z"
    }
   },
   "outputs": [],
   "source": [
    "replacement_dict = rep.to_dict()"
   ]
  },
  {
   "cell_type": "code",
   "execution_count": null,
   "metadata": {
    "execution": {
     "iopub.execute_input": "2022-02-13T20:44:46.29212Z",
     "iopub.status.busy": "2022-02-13T20:44:46.291839Z",
     "iopub.status.idle": "2022-02-13T20:44:47.61316Z",
     "shell.execute_reply": "2022-02-13T20:44:47.612112Z",
     "shell.execute_reply.started": "2022-02-13T20:44:46.292086Z"
    }
   },
   "outputs": [],
   "source": [
    "data.replace(replacement_dict, inplace=True, regex=True)"
   ]
  },
  {
   "cell_type": "code",
   "execution_count": null,
   "metadata": {
    "execution": {
     "iopub.execute_input": "2022-02-13T20:45:08.25785Z",
     "iopub.status.busy": "2022-02-13T20:45:08.25739Z",
     "iopub.status.idle": "2022-02-13T20:45:08.269394Z",
     "shell.execute_reply": "2022-02-13T20:45:08.268735Z",
     "shell.execute_reply.started": "2022-02-13T20:45:08.257805Z"
    }
   },
   "outputs": [],
   "source": [
    "data['joblocation_address'].value_counts()"
   ]
  },
  {
   "cell_type": "code",
   "execution_count": null,
   "metadata": {
    "execution": {
     "iopub.execute_input": "2022-02-13T20:44:51.648986Z",
     "iopub.status.busy": "2022-02-13T20:44:51.648631Z",
     "iopub.status.idle": "2022-02-13T20:44:51.661464Z",
     "shell.execute_reply": "2022-02-13T20:44:51.660833Z",
     "shell.execute_reply.started": "2022-02-13T20:44:51.648954Z"
    }
   },
   "outputs": [],
   "source": [
    "df['joblocation_address'].value_counts().head(10)"
   ]
  },
  {
   "cell_type": "code",
   "execution_count": null,
   "metadata": {},
   "outputs": [],
   "source": []
  }
 ],
 "metadata": {
  "kaggle": {
   "accelerator": "none",
   "dataSources": [
    {
     "datasetId": 2521,
     "sourceId": 4209,
     "sourceType": "datasetVersion"
    },
    {
     "datasetId": 1932265,
     "sourceId": 3180722,
     "sourceType": "datasetVersion"
    },
    {
     "datasetId": 1932277,
     "sourceId": 3180745,
     "sourceType": "datasetVersion"
    }
   ],
   "dockerImageVersionId": 30154,
   "isGpuEnabled": false,
   "isInternetEnabled": true,
   "language": "python",
   "sourceType": "notebook"
  },
  "kernelspec": {
   "display_name": "Python 3 (ipykernel)",
   "language": "python",
   "name": "python3"
  },
  "language_info": {
   "codemirror_mode": {
    "name": "ipython",
    "version": 3
   },
   "file_extension": ".py",
   "mimetype": "text/x-python",
   "name": "python",
   "nbconvert_exporter": "python",
   "pygments_lexer": "ipython3",
   "version": "3.12.4"
  }
 },
 "nbformat": 4,
 "nbformat_minor": 4
}
